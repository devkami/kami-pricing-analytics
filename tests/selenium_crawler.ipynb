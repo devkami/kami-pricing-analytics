{
 "cells": [
  {
   "cell_type": "code",
   "execution_count": null,
   "metadata": {},
   "outputs": [],
   "source": [
    "from kami_pricing_analytics.data_collector.strategies.web_scraping.mercado_libre import MercadoLibreScraper\n",
    "product_url=\"https://produto.mercadolivre.com.br/MLB-1448733946\"\n",
    "mlb_scraper = MercadoLibreScraper(product_url=product_url)\n",
    "mlb_result = await mlb_scraper.execute()\n"
   ]
  },
  {
   "cell_type": "code",
   "execution_count": null,
   "metadata": {},
   "outputs": [],
   "source": [
    "print(\"Mercado Livre\")\n",
    "for seller in mlb_result['result']:\n",
    "  print(f\"{seller['seller_url']}\\n{seller['seller_id']}\\n{seller['seller_name']}\\n{seller['price']} \\n{seller['brand']} \\n{seller['description']} \\n{seller['product_url']}\\n\\n\")"
   ]
  },
  {
   "cell_type": "code",
   "execution_count": null,
   "metadata": {},
   "outputs": [],
   "source": [
    "from kami_pricing_analytics.data_collector.strategies.web_scraping.amazon import AmazonScraper\n",
    "product_url=\"https://www.amazon.com.br/dp/B07GYX8QRJ\"\n",
    "amazon_scraper = AmazonScraper(product_url=product_url)\n",
    "amazon_result = await amazon_scraper.execute()"
   ]
  },
  {
   "cell_type": "code",
   "execution_count": null,
   "metadata": {},
   "outputs": [],
   "source": [
    "print(\"Amazon\")\n",
    "for seller in amazon_result['result']:\n",
    "  print(f\"{seller['seller_url']}\\n{seller['seller_id']}\\n{seller['seller_name']}\\n{seller['price']} \\n{seller['brand']} \\n{seller['description']} \\n{seller['product_url']}\\n\\n\")"
   ]
  },
  {
   "cell_type": "code",
   "execution_count": 1,
   "metadata": {},
   "outputs": [
    {
     "name": "stdout",
     "output_type": "stream",
     "text": [
      "[{\"maxPrice\":169.9,\"slugName\":\"wella-professionals-invigo-nutrienrich-mascara-capilar-500ml\",\"img\":\"https://res.cloudinary.com/beleza-na-web/image/upload/w_100,f_auto,fl_progressive,q_auto:best/v1/imagens/product/57354/3715d1b3-a684-41a3-b9cb-f9ff37a78725-wella-professionals-invigo-nutrienrich-mascara-de-nutricao-500ml.png\",\"sku\":\"57354\",\"price\":169.8,\"brand\":\"wella-professionals\",\"category\":\"Cabelos\",\"name\":\"Wella Professionals Invigo Nutri-Enrich - Máscara Capilar 500ml\",\"seller\":{\"id\":\"65e086b96b17866a606a890d\",\"name\":\"Estudio Bella\",\"tag\":\"ESTUDIO_BELLA\",\"deliveryProvider\":{\"enabled\":true,\"displayName\":\"Beleza na Web\"}},\"buyboxPosition\":0,\"type\":\"mktp-3p\"}]\n",
      "[{\"maxPrice\":265.9,\"slugName\":\"wella-professionals-invigo-nutrienrich-mascara-capilar-500ml\",\"img\":\"https://res.cloudinary.com/beleza-na-web/image/upload/w_100,f_auto,fl_progressive,q_auto:best/v1/imagens/product/57354/3715d1b3-a684-41a3-b9cb-f9ff37a78725-wella-professionals-invigo-nutrienrich-mascara-de-nutricao-500ml.png\",\"sku\":\"57354\",\"price\":172.9,\"brand\":\"wella-professionals\",\"category\":\"Cabelos\",\"name\":\"Wella Professionals Invigo Nutri-Enrich - Máscara Capilar 500ml\",\"seller\":{\"id\":\"656f3b7773ad4c48b3ab1e7c\",\"name\":\"You na Web\",\"tag\":\"YOU_NA_WEB\",\"deliveryProvider\":{\"enabled\":true,\"displayName\":\"Beleza na Web\"}},\"buyboxPosition\":1,\"type\":\"mktp-3p\"}]\n",
      "[{\"maxPrice\":346.9,\"slugName\":\"wella-professionals-invigo-nutrienrich-mascara-capilar-500ml\",\"img\":\"https://res.cloudinary.com/beleza-na-web/image/upload/w_100,f_auto,fl_progressive,q_auto:best/v1/imagens/product/57354/3715d1b3-a684-41a3-b9cb-f9ff37a78725-wella-professionals-invigo-nutrienrich-mascara-de-nutricao-500ml.png\",\"sku\":\"57354\",\"price\":183.2,\"brand\":\"wella-professionals\",\"category\":\"Cabelos\",\"name\":\"Wella Professionals Invigo Nutri-Enrich - Máscara Capilar 500ml\",\"seller\":{\"id\":\"63dc1dd61793026f8e8aa2be\",\"name\":\"Amobeleza\",\"tag\":\"AMOBELEZA\",\"deliveryProvider\":{\"enabled\":true,\"displayName\":\"Beleza na Web\"}},\"buyboxPosition\":2,\"type\":\"mktp-3p\"}]\n",
      "[{\"maxPrice\":249.9,\"slugName\":\"wella-professionals-invigo-nutrienrich-mascara-capilar-500ml\",\"img\":\"https://res.cloudinary.com/beleza-na-web/image/upload/w_100,f_auto,fl_progressive,q_auto:best/v1/imagens/product/57354/3715d1b3-a684-41a3-b9cb-f9ff37a78725-wella-professionals-invigo-nutrienrich-mascara-de-nutricao-500ml.png\",\"sku\":\"57354\",\"price\":189.9,\"brand\":\"wella-professionals\",\"category\":\"Cabelos\",\"name\":\"Wella Professionals Invigo Nutri-Enrich - Máscara Capilar 500ml\",\"seller\":{\"id\":\"660ff7a4e1e32e523d473349\",\"name\":\"Eleve Beleza\",\"tag\":\"ELEVE_BELEZA\",\"deliveryProvider\":{\"enabled\":true,\"displayName\":\"Beleza na Web\"}},\"buyboxPosition\":3,\"type\":\"mktp-3p\"}]\n",
      "[{\"maxPrice\":399.9,\"slugName\":\"wella-professionals-invigo-nutrienrich-mascara-capilar-500ml\",\"img\":\"https://res.cloudinary.com/beleza-na-web/image/upload/w_100,f_auto,fl_progressive,q_auto:best/v1/imagens/product/57354/3715d1b3-a684-41a3-b9cb-f9ff37a78725-wella-professionals-invigo-nutrienrich-mascara-de-nutricao-500ml.png\",\"sku\":\"57354\",\"price\":194.9,\"brand\":\"wella-professionals\",\"category\":\"Cabelos\",\"name\":\"Wella Professionals Invigo Nutri-Enrich - Máscara Capilar 500ml\",\"seller\":{\"id\":\"629a6c14fc36bf54b0d32704\",\"name\":\"Cosmelticos\",\"tag\":\"COSMELTICOS\",\"deliveryProvider\":{\"enabled\":true,\"displayName\":\"Beleza na Web\"}},\"buyboxPosition\":4,\"type\":\"mktp-3p\"}]\n",
      "[{\"maxPrice\":199,\"slugName\":\"wella-professionals-invigo-nutrienrich-mascara-capilar-500ml\",\"img\":\"https://res.cloudinary.com/beleza-na-web/image/upload/w_100,f_auto,fl_progressive,q_auto:best/v1/imagens/product/57354/3715d1b3-a684-41a3-b9cb-f9ff37a78725-wella-professionals-invigo-nutrienrich-mascara-de-nutricao-500ml.png\",\"sku\":\"57354\",\"price\":199,\"brand\":\"wella-professionals\",\"category\":\"Cabelos\",\"name\":\"Wella Professionals Invigo Nutri-Enrich - Máscara Capilar 500ml\",\"seller\":{\"id\":\"65a12c5cf84f52690baf6022\",\"name\":\"Beleza Care\",\"tag\":\"BELEZA_CARE_-_TINY\",\"deliveryProvider\":{\"enabled\":true,\"displayName\":\"Beleza na Web\"}},\"buyboxPosition\":5,\"type\":\"mktp-3p\"}]\n",
      "[{\"maxPrice\":320.9,\"slugName\":\"wella-professionals-invigo-nutrienrich-mascara-capilar-500ml\",\"img\":\"https://res.cloudinary.com/beleza-na-web/image/upload/w_100,f_auto,fl_progressive,q_auto:best/v1/imagens/product/57354/3715d1b3-a684-41a3-b9cb-f9ff37a78725-wella-professionals-invigo-nutrienrich-mascara-de-nutricao-500ml.png\",\"sku\":\"57354\",\"price\":202.77,\"brand\":\"wella-professionals\",\"category\":\"Cabelos\",\"name\":\"Wella Professionals Invigo Nutri-Enrich - Máscara Capilar 500ml\",\"seller\":{\"id\":\"63cad36234cd0a0046597ce6\",\"name\":\"Empore\",\"tag\":\"EMPORE\",\"deliveryProvider\":{\"enabled\":true,\"displayName\":\"Beleza na Web\"}},\"buyboxPosition\":6,\"type\":\"mktp-3p\"}]\n",
      "[{\"maxPrice\":288.9,\"slugName\":\"wella-professionals-invigo-nutrienrich-mascara-capilar-500ml\",\"img\":\"https://res.cloudinary.com/beleza-na-web/image/upload/w_100,f_auto,fl_progressive,q_auto:best/v1/imagens/product/57354/3715d1b3-a684-41a3-b9cb-f9ff37a78725-wella-professionals-invigo-nutrienrich-mascara-de-nutricao-500ml.png\",\"sku\":\"57354\",\"price\":202.9,\"brand\":\"wella-professionals\",\"category\":\"Cabelos\",\"name\":\"Wella Professionals Invigo Nutri-Enrich - Máscara Capilar 500ml\",\"seller\":{\"id\":\"653ab34d697eec2621d7b96d\",\"name\":\"Doce Beleza\",\"tag\":\"DOCE_BELEZA\",\"deliveryProvider\":{\"enabled\":true,\"displayName\":\"Beleza na Web\"}},\"buyboxPosition\":7,\"type\":\"mktp-3p\"}]\n",
      "[{\"maxPrice\":205.68,\"slugName\":\"wella-professionals-invigo-nutrienrich-mascara-capilar-500ml\",\"img\":\"https://res.cloudinary.com/beleza-na-web/image/upload/w_100,f_auto,fl_progressive,q_auto:best/v1/imagens/product/57354/3715d1b3-a684-41a3-b9cb-f9ff37a78725-wella-professionals-invigo-nutrienrich-mascara-de-nutricao-500ml.png\",\"sku\":\"57354\",\"price\":205.68,\"brand\":\"wella-professionals\",\"category\":\"Cabelos\",\"name\":\"Wella Professionals Invigo Nutri-Enrich - Máscara Capilar 500ml\",\"seller\":{\"id\":\"65c69dadc4936428e554808d\",\"name\":\"Cabelo de Rica Cosméticos\",\"tag\":\"CABELO_DE_RICA_COSMETICOS\",\"deliveryProvider\":{\"enabled\":true,\"displayName\":\"Beleza na Web\"}},\"buyboxPosition\":8,\"type\":\"mktp-3p\"}]\n",
      "[{\"maxPrice\":358.3,\"slugName\":\"wella-professionals-invigo-nutrienrich-mascara-capilar-500ml\",\"img\":\"https://res.cloudinary.com/beleza-na-web/image/upload/w_100,f_auto,fl_progressive,q_auto:best/v1/imagens/product/57354/3715d1b3-a684-41a3-b9cb-f9ff37a78725-wella-professionals-invigo-nutrienrich-mascara-de-nutricao-500ml.png\",\"sku\":\"57354\",\"price\":206.52,\"brand\":\"wella-professionals\",\"category\":\"Cabelos\",\"name\":\"Wella Professionals Invigo Nutri-Enrich - Máscara Capilar 500ml\",\"seller\":{\"id\":\"64f8e9da7a5b1010270c7d40\",\"name\":\"Poderosabeleza\",\"tag\":\"PODEROSABELEZA\",\"deliveryProvider\":{\"enabled\":true,\"displayName\":\"Beleza na Web\"}},\"buyboxPosition\":9,\"type\":\"mktp-3p\"}]\n",
      "[{\"maxPrice\":256.16,\"slugName\":\"wella-professionals-invigo-nutrienrich-mascara-capilar-500ml\",\"img\":\"https://res.cloudinary.com/beleza-na-web/image/upload/w_100,f_auto,fl_progressive,q_auto:best/v1/imagens/product/57354/3715d1b3-a684-41a3-b9cb-f9ff37a78725-wella-professionals-invigo-nutrienrich-mascara-de-nutricao-500ml.png\",\"sku\":\"57354\",\"price\":209.9,\"brand\":\"wella-professionals\",\"category\":\"Cabelos\",\"name\":\"Wella Professionals Invigo Nutri-Enrich - Máscara Capilar 500ml\",\"seller\":{\"id\":\"64de89ab9197ab1fbe26f9eb\",\"name\":\"Club Hair Luxo\",\"tag\":\"CLUB_HAIR_LUXO\",\"deliveryProvider\":{\"enabled\":true,\"displayName\":\"Beleza na Web\"}},\"buyboxPosition\":10,\"type\":\"mktp-3p\"}]\n",
      "[{\"maxPrice\":346.9,\"slugName\":\"wella-professionals-invigo-nutrienrich-mascara-capilar-500ml\",\"img\":\"https://res.cloudinary.com/beleza-na-web/image/upload/w_100,f_auto,fl_progressive,q_auto:best/v1/imagens/product/57354/3715d1b3-a684-41a3-b9cb-f9ff37a78725-wella-professionals-invigo-nutrienrich-mascara-de-nutricao-500ml.png\",\"sku\":\"57354\",\"price\":238.9,\"brand\":\"wella-professionals\",\"category\":\"Cabelos\",\"name\":\"Wella Professionals Invigo Nutri-Enrich - Máscara Capilar 500ml\",\"seller\":{\"id\":\"beleza\",\"name\":\"Beleza na Web\",\"tag\":\"BLZ\",\"deliveryProvider\":{}},\"buyboxPosition\":11,\"type\":\"ecomm-1p\"}]\n",
      "[{\"maxPrice\":219.99,\"slugName\":\"wella-professionals-invigo-nutrienrich-mascara-capilar-500ml\",\"img\":\"https://res.cloudinary.com/beleza-na-web/image/upload/w_100,f_auto,fl_progressive,q_auto:best/v1/imagens/product/57354/3715d1b3-a684-41a3-b9cb-f9ff37a78725-wella-professionals-invigo-nutrienrich-mascara-de-nutricao-500ml.png\",\"sku\":\"57354\",\"price\":219.99,\"brand\":\"wella-professionals\",\"category\":\"Cabelos\",\"name\":\"Wella Professionals Invigo Nutri-Enrich - Máscara Capilar 500ml\",\"seller\":{\"id\":\"65dca3605d4593238840b1b6\",\"name\":\"Adorana Cosméticos\",\"tag\":\"ADORANA_COSMETICOS\",\"deliveryProvider\":{\"enabled\":true,\"displayName\":\"Beleza na Web\"}},\"buyboxPosition\":12,\"type\":\"mktp-3p\"}]\n",
      "[{\"maxPrice\":228.05,\"slugName\":\"wella-professionals-invigo-nutrienrich-mascara-capilar-500ml\",\"img\":\"https://res.cloudinary.com/beleza-na-web/image/upload/w_100,f_auto,fl_progressive,q_auto:best/v1/imagens/product/57354/3715d1b3-a684-41a3-b9cb-f9ff37a78725-wella-professionals-invigo-nutrienrich-mascara-de-nutricao-500ml.png\",\"sku\":\"57354\",\"price\":228.05,\"brand\":\"wella-professionals\",\"category\":\"Cabelos\",\"name\":\"Wella Professionals Invigo Nutri-Enrich - Máscara Capilar 500ml\",\"seller\":{\"id\":\"65149598fc85fe3ad975bca0\",\"name\":\"Bolha de Sabão Cosméticos\",\"tag\":\"BOLHA_DE_SABAO_COSMETICOS\",\"deliveryProvider\":{\"enabled\":true,\"displayName\":\"Beleza na Web\"}},\"buyboxPosition\":13,\"type\":\"mktp-3p\"}]\n",
      "[{\"maxPrice\":247.08,\"slugName\":\"wella-professionals-invigo-nutrienrich-mascara-capilar-500ml\",\"img\":\"https://res.cloudinary.com/beleza-na-web/image/upload/w_100,f_auto,fl_progressive,q_auto:best/v1/imagens/product/57354/3715d1b3-a684-41a3-b9cb-f9ff37a78725-wella-professionals-invigo-nutrienrich-mascara-de-nutricao-500ml.png\",\"sku\":\"57354\",\"price\":230.99,\"brand\":\"wella-professionals\",\"category\":\"Cabelos\",\"name\":\"Wella Professionals Invigo Nutri-Enrich - Máscara Capilar 500ml\",\"seller\":{\"id\":\"65aff25a11a63108db98b316\",\"name\":\"Beautfy\",\"tag\":\"BEAUTFY\",\"deliveryProvider\":{\"enabled\":true,\"displayName\":\"Beleza na Web\"}},\"buyboxPosition\":14,\"type\":\"mktp-3p\"}]\n",
      "[{\"maxPrice\":252.99,\"slugName\":\"wella-professionals-invigo-nutrienrich-mascara-capilar-500ml\",\"img\":\"https://res.cloudinary.com/beleza-na-web/image/upload/w_100,f_auto,fl_progressive,q_auto:best/v1/imagens/product/57354/3715d1b3-a684-41a3-b9cb-f9ff37a78725-wella-professionals-invigo-nutrienrich-mascara-de-nutricao-500ml.png\",\"sku\":\"57354\",\"price\":252.99,\"brand\":\"wella-professionals\",\"category\":\"Cabelos\",\"name\":\"Wella Professionals Invigo Nutri-Enrich - Máscara Capilar 500ml\",\"seller\":{\"id\":\"62955ee8fc36bf54b0d318e5\",\"name\":\"Nova Era Cosméticos\",\"tag\":\"NOVA_ERA_COSMETICOS\",\"deliveryProvider\":{\"enabled\":true,\"displayName\":\"Beleza na Web\"}},\"buyboxPosition\":15,\"type\":\"mktp-3p\"}]\n",
      "[{\"maxPrice\":252.88,\"slugName\":\"wella-professionals-invigo-nutrienrich-mascara-capilar-500ml\",\"img\":\"https://res.cloudinary.com/beleza-na-web/image/upload/w_100,f_auto,fl_progressive,q_auto:best/v1/imagens/product/57354/3715d1b3-a684-41a3-b9cb-f9ff37a78725-wella-professionals-invigo-nutrienrich-mascara-de-nutricao-500ml.png\",\"sku\":\"57354\",\"price\":252.88,\"brand\":\"wella-professionals\",\"category\":\"Cabelos\",\"name\":\"Wella Professionals Invigo Nutri-Enrich - Máscara Capilar 500ml\",\"seller\":{\"id\":\"64d2400dcb856e36bb3f90a0\",\"name\":\"Loja Extramix\",\"tag\":\"LOJA_EXTRAMIX\",\"deliveryProvider\":{\"enabled\":false,\"displayName\":\"\"}},\"buyboxPosition\":16,\"type\":\"mktp-3p\"}]\n",
      "[{\"maxPrice\":319.9,\"slugName\":\"wella-professionals-invigo-nutrienrich-mascara-capilar-500ml\",\"img\":\"https://res.cloudinary.com/beleza-na-web/image/upload/w_100,f_auto,fl_progressive,q_auto:best/v1/imagens/product/57354/3715d1b3-a684-41a3-b9cb-f9ff37a78725-wella-professionals-invigo-nutrienrich-mascara-de-nutricao-500ml.png\",\"sku\":\"57354\",\"price\":275.9,\"brand\":\"wella-professionals\",\"category\":\"Cabelos\",\"name\":\"Wella Professionals Invigo Nutri-Enrich - Máscara Capilar 500ml\",\"seller\":{\"id\":\"62c23bf0be4bc87eadb37f0b\",\"name\":\"Cosméticos FM\",\"tag\":\"COSMETICOS_FM\",\"deliveryProvider\":{\"enabled\":true,\"displayName\":\"Beleza na Web\"}},\"buyboxPosition\":17,\"type\":\"mktp-3p\"}]\n",
      "[{\"maxPrice\":277.25,\"slugName\":\"wella-professionals-invigo-nutrienrich-mascara-capilar-500ml\",\"img\":\"https://res.cloudinary.com/beleza-na-web/image/upload/w_100,f_auto,fl_progressive,q_auto:best/v1/imagens/product/57354/3715d1b3-a684-41a3-b9cb-f9ff37a78725-wella-professionals-invigo-nutrienrich-mascara-de-nutricao-500ml.png\",\"sku\":\"57354\",\"price\":277.25,\"brand\":\"wella-professionals\",\"category\":\"Cabelos\",\"name\":\"Wella Professionals Invigo Nutri-Enrich - Máscara Capilar 500ml\",\"seller\":{\"id\":\"622b586ad6d1671603d2fab6\",\"name\":\"Perfumaria Sumirê\",\"tag\":\"SUMIRE\",\"deliveryProvider\":{\"enabled\":true,\"displayName\":\"Beleza na Web\"}},\"buyboxPosition\":18,\"type\":\"mktp-3p\"}]\n",
      "[{\"maxPrice\":431.9,\"slugName\":\"wella-professionals-invigo-nutrienrich-mascara-capilar-500ml\",\"img\":\"https://res.cloudinary.com/beleza-na-web/image/upload/w_100,f_auto,fl_progressive,q_auto:best/v1/imagens/product/57354/3715d1b3-a684-41a3-b9cb-f9ff37a78725-wella-professionals-invigo-nutrienrich-mascara-de-nutricao-500ml.png\",\"sku\":\"57354\",\"price\":285,\"brand\":\"wella-professionals\",\"category\":\"Cabelos\",\"name\":\"Wella Professionals Invigo Nutri-Enrich - Máscara Capilar 500ml\",\"seller\":{\"id\":\"63a1d3c6fb9079796a72a024\",\"name\":\"Kassio Perfumaria\",\"tag\":\"KASSIO_PERFUMARIA\",\"deliveryProvider\":{\"enabled\":true,\"displayName\":\"Beleza na Web\"}},\"buyboxPosition\":19,\"type\":\"mktp-3p\"}]\n",
      "[{\"maxPrice\":428.9,\"slugName\":\"wella-professionals-invigo-nutrienrich-mascara-capilar-500ml\",\"img\":\"https://res.cloudinary.com/beleza-na-web/image/upload/w_100,f_auto,fl_progressive,q_auto:best/v1/imagens/product/57354/3715d1b3-a684-41a3-b9cb-f9ff37a78725-wella-professionals-invigo-nutrienrich-mascara-de-nutricao-500ml.png\",\"sku\":\"57354\",\"price\":341.9,\"brand\":\"wella-professionals\",\"category\":\"Cabelos\",\"name\":\"Wella Professionals Invigo Nutri-Enrich - Máscara Capilar 500ml\",\"seller\":{\"id\":\"62a889f8fc36bf54b0d34dc0\",\"name\":\"ACBeauty\",\"tag\":\"ACBEAUTY\",\"deliveryProvider\":{\"enabled\":false,\"displayName\":\"\"}},\"buyboxPosition\":20,\"type\":\"mktp-3p\"}]\n"
     ]
    }
   ],
   "source": [
    "from kami_pricing_analytics.data_collector.strategies.web_scraping.beleza_na_web import BelezaNaWebScraper\n",
    "product_url=\"https://www.belezanaweb.com.br/wella-professionals-invigo-nutrienrich-mascara-capilar-500ml/ofertas-marketplace\"\n",
    "beleza_scraper = BelezaNaWebScraper(product_url=product_url)\n",
    "beleza_result = await beleza_scraper.execute()"
   ]
  },
  {
   "cell_type": "code",
   "execution_count": null,
   "metadata": {},
   "outputs": [],
   "source": [
    "print(\"Beleza na Web\")\n",
    "for seller in beleza_result['result']:\n",
    "  print(f\"{seller['seller_url']}\\n{seller['seller_id']}\\n{seller['seller_name']}\\n{seller['price']} \\n{seller['brand']} \\n{seller['description']}-X 'POST' 'http://0.0.0.0:8001/api/research' -H 'accept: application/json' -H 'Content-Type: application/json' -d '{ \"url\": \"https://produto.mercadolivre.com.br/MLB-1448733946\", \"collector_option\": 0 , \"store\": false }' \\n{seller['product_url']}\\n\\n\")"
   ]
  },
  {
   "cell_type": "code",
   "execution_count": null,
   "metadata": {},
   "outputs": [],
   "source": [
    "from kami_pricing_analytics.interface.api.fastapi.app import ResearchRequest\n",
    "marketplace=\"amazon\"\n",
    "marketplace_id=\"B07GYX8QRJ\"\n",
    "url=\"https://www.belezanaweb.com.br/amend-complete-repair-shampoo-250ml/ofertas-marketplace\"\n",
    "research = ResearchRequest(url=url)"
   ]
  },
  {
   "cell_type": "code",
   "execution_count": null,
   "metadata": {},
   "outputs": [],
   "source": [
    "print(research)\n",
    "research.validate_input()"
   ]
  },
  {
   "cell_type": "code",
   "execution_count": null,
   "metadata": {},
   "outputs": [],
   "source": [
    "from kami_pricing_analytics.schemas.pricing_research import PricingResearch\n",
    "research_data = research.model_dump(exclude_none=True, exclude={\"store\"})\n",
    "pricing_research = PricingResearch(**research_data)\n",
    "pricing_research.set_strategy()"
   ]
  },
  {
   "cell_type": "code",
   "execution_count": null,
   "metadata": {},
   "outputs": [],
   "source": [
    "result = await pricing_research.strategy.execute()"
   ]
  },
  {
   "cell_type": "code",
   "execution_count": null,
   "metadata": {},
   "outputs": [],
   "source": [
    "from kami_pricing_analytics.schemas.options import CollectorOptions\n",
    "\n",
    "print(f'{CollectorOptionsss(0).name}')"
   ]
  }
 ],
 "metadata": {
  "kernelspec": {
   "display_name": "kami-pricing-analytics-Zi2hoFJ2-py3.11",
   "language": "python",
   "name": "python3"
  },
  "language_info": {
   "codemirror_mode": {
    "name": "ipython",
    "version": 3
   },
   "file_extension": ".py",
   "mimetype": "text/x-python",
   "name": "python",
   "nbconvert_exporter": "python",
   "pygments_lexer": "ipython3",
   "version": "3.11.2"
  }
 },
 "nbformat": 4,
 "nbformat_minor": 2
}
