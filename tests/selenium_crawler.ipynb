{
 "cells": [
  {
   "cell_type": "code",
   "execution_count": null,
   "metadata": {},
   "outputs": [],
   "source": [
    "from kami_pricing_analytics.data_collector.strategies.web_scraping.mercado_libre import MercadoLibreScraper\n",
    "product_url=\"https://produto.mercadolivre.com.br/MLB-1448733946\"\n",
    "mlb_scraper = MercadoLibreScraper(product_url=product_url)\n",
    "mlb_result = await mlb_scraper.execute()\n"
   ]
  },
  {
   "cell_type": "code",
   "execution_count": null,
   "metadata": {},
   "outputs": [],
   "source": [
    "print(\"Mercado Livre\")\n",
    "for seller in mlb_result['result']:\n",
    "  print(f\"{seller['seller_url']}\\n{seller['seller_id']}\\n{seller['seller_name']}\\n{seller['price']} \\n{seller['brand']} \\n{seller['description']} \\n{seller['product_url']}\\n\\n\")"
   ]
  },
  {
   "cell_type": "code",
   "execution_count": null,
   "metadata": {},
   "outputs": [],
   "source": [
    "from kami_pricing_analytics.data_collector.strategies.web_scraping.amazon import AmazonScraper\n",
    "product_url=\"https://www.amazon.com.br/dp/B07GYX8QRJ\"\n",
    "amazon_scraper = AmazonScraper(product_url=product_url)\n",
    "amazon_result = await amazon_scraper.execute()"
   ]
  },
  {
   "cell_type": "code",
   "execution_count": null,
   "metadata": {},
   "outputs": [],
   "source": [
    "print(\"Amazon\")\n",
    "for seller in amazon_result['result']:\n",
    "  print(f\"{seller['seller_url']}\\n{seller['seller_id']}\\n{seller['seller_name']}\\n{seller['price']} \\n{seller['brand']} \\n{seller['description']} \\n{seller['product_url']}\\n\\n\")"
   ]
  },
  {
   "cell_type": "code",
   "execution_count": null,
   "metadata": {},
   "outputs": [],
   "source": [
    "from kami_pricing_analytics.data_collector.strategies.web_scraping.beleza_na_web import BelezaNaWebScraper\n",
    "product_url=\"https://www.belezanaweb.com.br/wella-professionals-invigo-nutrienrich-mascara-capilar-500ml/ofertas-marketplace\"\n",
    "beleza_scraper = BelezaNaWebScraper(product_url=product_url)\n",
    "beleza_result = await beleza_scraper.execute()"
   ]
  },
  {
   "cell_type": "code",
   "execution_count": null,
   "metadata": {},
   "outputs": [],
   "source": [
    "print(\"Beleza na Web\")\n",
    "for seller in beleza_result['result']:\n",
    "  print(f\"{seller['seller_url']}\\n{seller['seller_id']}\\n{seller['seller_name']}\\n{seller['price']} \\n{seller['brand']} \\n{seller['description']}-X 'POST' 'http://0.0.0.0:8001/api/research' -H 'accept: application/json' -H 'Content-Type: application/json' -d '{ \"url\": \"https://produto.mercadolivre.com.br/MLB-1448733946\", \"strategy_option\": 0 , \"store\": false }' \\n{seller['product_url']}\\n\\n\")"
   ]
  },
  {
   "cell_type": "code",
   "execution_count": null,
   "metadata": {},
   "outputs": [],
   "source": [
    "from kami_pricing_analytics.interface.api.fastapi.app import ResearchRequest\n",
    "marketplace=\"amazon\"\n",
    "marketplace_id=\"B07GYX8QRJ\"\n",
    "url=\"https://www.belezanaweb.com.br/amend-complete-repair-shampoo-250ml/ofertas-marketplace\"\n",
    "research = ResearchRequest(url=url)"
   ]
  },
  {
   "cell_type": "code",
   "execution_count": null,
   "metadata": {},
   "outputs": [],
   "source": [
    "print(research)\n",
    "research.validate_input()"
   ]
  },
  {
   "cell_type": "code",
   "execution_count": null,
   "metadata": {},
   "outputs": [],
   "source": [
    "from kami_pricing_analytics.schemas.pricing_research import PricingResearch\n",
    "research_data = research.model_dump(exclude_none=True, exclude={\"store\"})\n",
    "pricing_research = PricingResearch(**research_data)\n",
    "pricing_research.set_strategy()"
   ]
  },
  {
   "cell_type": "code",
   "execution_count": null,
   "metadata": {},
   "outputs": [],
   "source": [
    "result = await pricing_research.strategy.execute()"
   ]
  },
  {
   "cell_type": "code",
   "execution_count": 8,
   "metadata": {},
   "outputs": [
    {
     "name": "stdout",
     "output_type": "stream",
     "text": [
      "WEB_SCRAPING\n"
     ]
    }
   ],
   "source": [
    "from kami_pricing_analytics.schemas.options import StrategyOptions\n",
    "\n",
    "print(f'{StrategyOptions(0).name}')"
   ]
  }
 ],
 "metadata": {
  "kernelspec": {
   "display_name": "kami-pricing-analytics-Zi2hoFJ2-py3.11",
   "language": "python",
   "name": "python3"
  },
  "language_info": {
   "codemirror_mode": {
    "name": "ipython",
    "version": 3
   },
   "file_extension": ".py",
   "mimetype": "text/x-python",
   "name": "python",
   "nbconvert_exporter": "python",
   "pygments_lexer": "ipython3",
   "version": "3.11.2"
  }
 },
 "nbformat": 4,
 "nbformat_minor": 2
}
