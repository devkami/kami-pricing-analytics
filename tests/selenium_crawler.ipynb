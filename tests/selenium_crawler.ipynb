{
 "cells": [
  {
   "cell_type": "code",
   "execution_count": 1,
   "metadata": {},
   "outputs": [],
   "source": [
    "from kami_pricing_analytics.data_collector.strategies.web_scraping.amazon import AmazonScraper\n",
    "from selenium.webdriver.common.by import By\n",
    "from urllib.parse import urlparse, parse_qs\n",
    "from pydantic import HttpUrl\n",
    "from selenium.webdriver.chrome.options import Options\n",
    "from selenium.webdriver.chrome.service import Service\n",
    "from selenium import webdriver\n",
    "from webdriver_manager.chrome import ChromeDriverManager\n",
    "from selenium.webdriver.support.ui import WebDriverWait\n",
    "from selenium.webdriver.support import expected_conditions as EC\n",
    "product_url=\"https://www.amazon.com.br/dp/B07GYX8QRJ\"\n",
    "amazon_scraper = AmazonScraper(product_url=product_url)"
   ]
  },
  {
   "cell_type": "code",
   "execution_count": 2,
   "metadata": {},
   "outputs": [
    {
     "name": "stdout",
     "output_type": "stream",
     "text": [
      "Using User-Agent: Mozilla/5.0 (X11; Ubuntu; Linux x86_64; rv:88.0) Gecko/20100101 Firefox/88.0\n",
      "8 {'result': []}\n",
      "Using User-Agent: Mozilla/5.0 (iPad; CPU OS 13_2_3 like Mac OS X) AppleWebKit/605.1.15 (KHTML, like Gecko) Version/13.0.3 Mobile/15E148 Safari/604.1\n",
      "194 {'result': [{'sku': 'B07GYX8QRJ', 'brand': 'Wella', 'description': 'Wella Condicionador Invigo Blonde Recharge Loiro Frio 200ml', 'price': 'R$88,90', 'seller_id': 'A35SQSYF9G5D3N', 'seller_name': ' Beleza na Web Oficial'}, {'sku': 'B07GYX8QRJ', 'brand': 'Wella', 'description': 'Wella Condicionador Invigo Blonde Recharge Loiro Frio 200ml', 'price': 'R$82,90', 'seller_id': 'A2EVEOBEF8Y9Y5', 'seller_name': ' EVAS PERFUMARIA'}, {'sku': 'B07GYX8QRJ', 'brand': 'Wella', 'description': 'Wella Condicionador Invigo Blonde Recharge Loiro Frio 200ml', 'price': 'R$99,85', 'seller_id': 'AW125UK468M0M', 'seller_name': ' Evas Perfumaria'}, {'sku': 'B07GYX8QRJ', 'brand': 'Wella', 'description': 'Wella Condicionador Invigo Blonde Recharge Loiro Frio 200ml', 'price': 'R$85,83', 'seller_id': 'A2Y836TOQ61T0R', 'seller_name': ' RG Comércio de Cosméticos LTDA'}, {'sku': 'B07GYX8QRJ', 'brand': 'Wella', 'description': 'Wella Condicionador Invigo Blonde Recharge Loiro Frio 200ml', 'price': 'R$101,00', 'seller_id': 'ADK5MCOMXSG3S', 'seller_name': ' Athenas Cosméticos'}, {'sku': 'B07GYX8QRJ', 'brand': 'Wella', 'description': 'Wella Condicionador Invigo Blonde Recharge Loiro Frio 200ml', 'price': 'R$118,17', 'seller_id': 'AJ3NTEB53ZEKK', 'seller_name': ' LIKE COSMÉTICOS'}, {'sku': 'B07GYX8QRJ', 'brand': 'Wella', 'description': 'Wella Condicionador Invigo Blonde Recharge Loiro Frio 200ml', 'price': 'R$134,00', 'seller_id': 'A14AS6XF2F9HTE', 'seller_name': ' JLB Beauty'}]}\n",
      "Using User-Agent: Mozilla/5.0 (Macintosh; Intel Mac OS X 10_15_7) AppleWebKit/605.1.15 (KHTML, like Gecko) Version/14.0.3 Safari/605.1.15\n",
      "4 {'result': []}\n",
      "Using User-Agent: Mozilla/5.0 (Macintosh; Intel Mac OS X 10_15_7) AppleWebKit/605.1.15 (KHTML, like Gecko) Version/14.0.3 Safari/605.1.15\n",
      "14 {'result': [{'sku': 'B07GYX8QRJ', 'brand': 'Wella', 'description': 'Wella Condicionador Invigo Blonde Recharge Loiro Frio 200ml', 'price': 'R$88,90', 'seller_id': 'A35SQSYF9G5D3N', 'seller_name': ' Beleza na Web Oficial'}, {'sku': 'B07GYX8QRJ', 'brand': 'Wella', 'description': 'Wella Condicionador Invigo Blonde Recharge Loiro Frio 200ml', 'price': 'R$82,90', 'seller_id': 'A2EVEOBEF8Y9Y5', 'seller_name': ' EVAS PERFUMARIA'}, {'sku': 'B07GYX8QRJ', 'brand': 'Wella', 'description': 'Wella Condicionador Invigo Blonde Recharge Loiro Frio 200ml', 'price': 'R$99,85', 'seller_id': 'AW125UK468M0M', 'seller_name': ' Evas Perfumaria'}, {'sku': 'B07GYX8QRJ', 'brand': 'Wella', 'description': 'Wella Condicionador Invigo Blonde Recharge Loiro Frio 200ml', 'price': 'R$85,83', 'seller_id': 'A2Y836TOQ61T0R', 'seller_name': ' RG Comércio de Cosméticos LTDA'}, {'sku': 'B07GYX8QRJ', 'brand': 'Wella', 'description': 'Wella Condicionador Invigo Blonde Recharge Loiro Frio 200ml', 'price': 'R$101,00', 'seller_id': 'ADK5MCOMXSG3S', 'seller_name': ' Athenas Cosméticos'}, {'sku': 'B07GYX8QRJ', 'brand': 'Wella', 'description': 'Wella Condicionador Invigo Blonde Recharge Loiro Frio 200ml', 'price': 'R$118,17', 'seller_id': 'AJ3NTEB53ZEKK', 'seller_name': ' LIKE COSMÉTICOS'}, {'sku': 'B07GYX8QRJ', 'brand': 'Wella', 'description': 'Wella Condicionador Invigo Blonde Recharge Loiro Frio 200ml', 'price': 'R$134,00', 'seller_id': 'A14AS6XF2F9HTE', 'seller_name': ' JLB Beauty'}]}\n",
      "Using User-Agent: Mozilla/5.0 (iPhone; CPU iPhone OS 13_2_3 like Mac OS X) AppleWebKit/605.1.15 (KHTML, like Gecko) Version/13.0.3 Mobile/15E148 Safari/604.1\n",
      "10 {'result': []}\n",
      "Using User-Agent: Mozilla/5.0 (Windows NT 10.0; Win64; x64) AppleWebKit/537.36 (KHTML, like Gecko) Chrome/58.0.3029.110 Safari/537.3\n",
      "4 {'result': []}\n",
      "Using User-Agent: Mozilla/5.0 (Macintosh; Intel Mac OS X 10_15_7) AppleWebKit/605.1.15 (KHTML, like Gecko) Version/14.0.3 Safari/605.1.15\n",
      "6 {'result': [{'sku': 'B07GYX8QRJ', 'brand': 'Wella', 'description': 'Wella Condicionador Invigo Blonde Recharge Loiro Frio 200ml', 'price': 'R$88,90', 'seller_id': 'A35SQSYF9G5D3N', 'seller_name': ' Beleza na Web Oficial'}, {'sku': 'B07GYX8QRJ', 'brand': 'Wella', 'description': 'Wella Condicionador Invigo Blonde Recharge Loiro Frio 200ml', 'price': 'R$82,90', 'seller_id': 'A2EVEOBEF8Y9Y5', 'seller_name': ' EVAS PERFUMARIA'}, {'sku': 'B07GYX8QRJ', 'brand': 'Wella', 'description': 'Wella Condicionador Invigo Blonde Recharge Loiro Frio 200ml', 'price': 'R$99,85', 'seller_id': 'AW125UK468M0M', 'seller_name': ' Evas Perfumaria'}, {'sku': 'B07GYX8QRJ', 'brand': 'Wella', 'description': 'Wella Condicionador Invigo Blonde Recharge Loiro Frio 200ml', 'price': 'R$85,83', 'seller_id': 'A2Y836TOQ61T0R', 'seller_name': ' RG Comércio de Cosméticos LTDA'}, {'sku': 'B07GYX8QRJ', 'brand': 'Wella', 'description': 'Wella Condicionador Invigo Blonde Recharge Loiro Frio 200ml', 'price': 'R$101,00', 'seller_id': 'ADK5MCOMXSG3S', 'seller_name': ' Athenas Cosméticos'}, {'sku': 'B07GYX8QRJ', 'brand': 'Wella', 'description': 'Wella Condicionador Invigo Blonde Recharge Loiro Frio 200ml', 'price': 'R$118,17', 'seller_id': 'AJ3NTEB53ZEKK', 'seller_name': ' LIKE COSMÉTICOS'}, {'sku': 'B07GYX8QRJ', 'brand': 'Wella', 'description': 'Wella Condicionador Invigo Blonde Recharge Loiro Frio 200ml', 'price': 'R$134,00', 'seller_id': 'A14AS6XF2F9HTE', 'seller_name': ' JLB Beauty'}]}\n",
      "Using User-Agent: Mozilla/5.0 (Macintosh; Intel Mac OS X 10_15_7) AppleWebKit/605.1.15 (KHTML, like Gecko) Version/14.0.3 Safari/605.1.15\n",
      "197 {'result': [{'sku': 'B07GYX8QRJ', 'brand': 'Wella', 'description': 'Wella Condicionador Invigo Blonde Recharge Loiro Frio 200ml', 'price': 'R$88,90', 'seller_id': 'A35SQSYF9G5D3N', 'seller_name': ' Beleza na Web Oficial'}, {'sku': 'B07GYX8QRJ', 'brand': 'Wella', 'description': 'Wella Condicionador Invigo Blonde Recharge Loiro Frio 200ml', 'price': 'R$82,90', 'seller_id': 'A2EVEOBEF8Y9Y5', 'seller_name': ' EVAS PERFUMARIA'}, {'sku': 'B07GYX8QRJ', 'brand': 'Wella', 'description': 'Wella Condicionador Invigo Blonde Recharge Loiro Frio 200ml', 'price': 'R$99,85', 'seller_id': 'AW125UK468M0M', 'seller_name': ' Evas Perfumaria'}, {'sku': 'B07GYX8QRJ', 'brand': 'Wella', 'description': 'Wella Condicionador Invigo Blonde Recharge Loiro Frio 200ml', 'price': 'R$85,83', 'seller_id': 'A2Y836TOQ61T0R', 'seller_name': ' RG Comércio de Cosméticos LTDA'}, {'sku': 'B07GYX8QRJ', 'brand': 'Wella', 'description': 'Wella Condicionador Invigo Blonde Recharge Loiro Frio 200ml', 'price': 'R$101,00', 'seller_id': 'ADK5MCOMXSG3S', 'seller_name': ' Athenas Cosméticos'}, {'sku': 'B07GYX8QRJ', 'brand': 'Wella', 'description': 'Wella Condicionador Invigo Blonde Recharge Loiro Frio 200ml', 'price': 'R$118,17', 'seller_id': 'AJ3NTEB53ZEKK', 'seller_name': ' LIKE COSMÉTICOS'}, {'sku': 'B07GYX8QRJ', 'brand': 'Wella', 'description': 'Wella Condicionador Invigo Blonde Recharge Loiro Frio 200ml', 'price': 'R$134,00', 'seller_id': 'A14AS6XF2F9HTE', 'seller_name': ' JLB Beauty'}]}\n",
      "Using User-Agent: Mozilla/5.0 (Windows NT 10.0; Win64; x64) AppleWebKit/537.36 (KHTML, like Gecko) Chrome/58.0.3029.110 Safari/537.3\n",
      "194 {'result': [{'sku': 'B07GYX8QRJ', 'brand': 'Wella', 'description': 'Wella Condicionador Invigo Blonde Recharge Loiro Frio 200ml', 'price': 'R$88,90', 'seller_id': 'A35SQSYF9G5D3N', 'seller_name': ' Beleza na Web Oficial'}, {'sku': 'B07GYX8QRJ', 'brand': 'Wella', 'description': 'Wella Condicionador Invigo Blonde Recharge Loiro Frio 200ml', 'price': 'R$82,90', 'seller_id': 'A2EVEOBEF8Y9Y5', 'seller_name': ' EVAS PERFUMARIA'}, {'sku': 'B07GYX8QRJ', 'brand': 'Wella', 'description': 'Wella Condicionador Invigo Blonde Recharge Loiro Frio 200ml', 'price': 'R$99,85', 'seller_id': 'AW125UK468M0M', 'seller_name': ' Evas Perfumaria'}, {'sku': 'B07GYX8QRJ', 'brand': 'Wella', 'description': 'Wella Condicionador Invigo Blonde Recharge Loiro Frio 200ml', 'price': 'R$85,83', 'seller_id': 'A2Y836TOQ61T0R', 'seller_name': ' RG Comércio de Cosméticos LTDA'}, {'sku': 'B07GYX8QRJ', 'brand': 'Wella', 'description': 'Wella Condicionador Invigo Blonde Recharge Loiro Frio 200ml', 'price': 'R$101,00', 'seller_id': 'ADK5MCOMXSG3S', 'seller_name': ' Athenas Cosméticos'}, {'sku': 'B07GYX8QRJ', 'brand': 'Wella', 'description': 'Wella Condicionador Invigo Blonde Recharge Loiro Frio 200ml', 'price': 'R$118,17', 'seller_id': 'AJ3NTEB53ZEKK', 'seller_name': ' LIKE COSMÉTICOS'}, {'sku': 'B07GYX8QRJ', 'brand': 'Wella', 'description': 'Wella Condicionador Invigo Blonde Recharge Loiro Frio 200ml', 'price': 'R$134,00', 'seller_id': 'A14AS6XF2F9HTE', 'seller_name': ' JLB Beauty'}]}\n",
      "Using User-Agent: Mozilla/5.0 (Windows NT 10.0; WOW64; Trident/7.0; rv:11.0) like Gecko\n",
      "9 {'result': [{'sku': 'B07GYX8QRJ', 'brand': 'Wella', 'description': 'Wella Condicionador Invigo Blonde Recharge Loiro Frio 200ml', 'price': 'R$88,90', 'seller_id': 'A35SQSYF9G5D3N', 'seller_name': ' Beleza na Web Oficial'}, {'sku': 'B07GYX8QRJ', 'brand': 'Wella', 'description': 'Wella Condicionador Invigo Blonde Recharge Loiro Frio 200ml', 'price': 'R$82,90', 'seller_id': 'A2EVEOBEF8Y9Y5', 'seller_name': ' EVAS PERFUMARIA'}, {'sku': 'B07GYX8QRJ', 'brand': 'Wella', 'description': 'Wella Condicionador Invigo Blonde Recharge Loiro Frio 200ml', 'price': 'R$99,85', 'seller_id': 'AW125UK468M0M', 'seller_name': ' Evas Perfumaria'}, {'sku': 'B07GYX8QRJ', 'brand': 'Wella', 'description': 'Wella Condicionador Invigo Blonde Recharge Loiro Frio 200ml', 'price': 'R$85,83', 'seller_id': 'A2Y836TOQ61T0R', 'seller_name': ' RG Comércio de Cosméticos LTDA'}, {'sku': 'B07GYX8QRJ', 'brand': 'Wella', 'description': 'Wella Condicionador Invigo Blonde Recharge Loiro Frio 200ml', 'price': 'R$101,00', 'seller_id': 'ADK5MCOMXSG3S', 'seller_name': ' Athenas Cosméticos'}, {'sku': 'B07GYX8QRJ', 'brand': 'Wella', 'description': 'Wella Condicionador Invigo Blonde Recharge Loiro Frio 200ml', 'price': 'R$118,17', 'seller_id': 'AJ3NTEB53ZEKK', 'seller_name': ' LIKE COSMÉTICOS'}, {'sku': 'B07GYX8QRJ', 'brand': 'Wella', 'description': 'Wella Condicionador Invigo Blonde Recharge Loiro Frio 200ml', 'price': 'R$134,00', 'seller_id': 'A14AS6XF2F9HTE', 'seller_name': ' JLB Beauty'}]}\n",
      "Success Attempts: 6 Failed Attempts: 4 Success Average Time: 102.33333333333333 Accuracy: 0.6 Precision: 0.6\n"
     ]
    }
   ],
   "source": [
    "# Get scraping accuraccy and average time excution\n",
    "from datetime import datetime\n",
    "attempts = 10\n",
    "success_attempts = 0\n",
    "failed_attempts = 0\n",
    "success_attempt_average_time = 0\n",
    "for i in range(0,attempts):        \n",
    "    # get elapsed time in seconds for amazon scraper execute method\n",
    "    before = datetime.now()    \n",
    "    result = await amazon_scraper.execute()\n",
    "    after = datetime.now()\n",
    "    attempt_time = (after - before).seconds\n",
    "    print(attempt_time, result)\n",
    "    if result['result']:\n",
    "        \n",
    "        success_attempts += 1\n",
    "        success_attempt_average_time += attempt_time\n",
    "    else:\n",
    "        failed_attempts += 1\n",
    "print(f'Success Attempts: {success_attempts} Failed Attempts: {failed_attempts} Success Average Time: {success_attempt_average_time/success_attempts} Accuracy: {success_attempts/attempts} Precision: {success_attempts/(success_attempts+failed_attempts)}')"
   ]
  }
 ],
 "metadata": {
  "kernelspec": {
   "display_name": "kami-pricing-analytics-Zi2hoFJ2-py3.11",
   "language": "python",
   "name": "python3"
  },
  "language_info": {
   "codemirror_mode": {
    "name": "ipython",
    "version": 3
   },
   "file_extension": ".py",
   "mimetype": "text/x-python",
   "name": "python",
   "nbconvert_exporter": "python",
   "pygments_lexer": "ipython3",
   "version": "3.11.2"
  }
 },
 "nbformat": 4,
 "nbformat_minor": 2
}
