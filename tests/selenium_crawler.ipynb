{
 "cells": [
  {
   "cell_type": "code",
   "execution_count": 1,
   "metadata": {},
   "outputs": [
    {
     "name": "stdout",
     "output_type": "stream",
     "text": [
      "Using User-Agent: Mozilla/5.0 (Macintosh; Intel Mac OS X 10_15_7) AppleWebKit/605.1.15 (KHTML, like Gecko) Version/14.0.3 Safari/605.1.15\n"
     ]
    }
   ],
   "source": [
    "from kami_pricing_analytics.data_collector.strategies.web_scraping.mercado_libre import MercadoLibreScraper\n",
    "product_url=\"https://produto.mercadolivre.com.br/MLB-1448733946\"\n",
    "mlb_scraper = MercadoLibreScraper(product_url=product_url)\n",
    "mlb_result = await mlb_scraper.execute()\n"
   ]
  },
  {
   "cell_type": "code",
   "execution_count": 2,
   "metadata": {},
   "outputs": [
    {
     "name": "stdout",
     "output_type": "stream",
     "text": [
      "Mercado Livre\n",
      "https://lista.mercadolivre.com.br/_CustId_185899562?item_id=MLB1448733946&category_id=MLB32130&seller_id=185899562&client=recoview-selleritems&recos_listing=true\n",
      "185899562\n",
      "ZUKA COSMETICOS\n",
      "R$145,90 \n",
      "Uso Obrigatorio \n",
      "Truss Uso Obrigatório Reconstrutor Capilar 260ml \n",
      "https://click1.mercadolivre.com.br/mclics/clicks/external/MLB/count?a=AG%2FkhoMN7qqZjIuXigXcqwaKp4zxXgsafhU%2Bc4LmAuM77NZ5%2FuywqlpvcrE3jU7N25vRdU%2B1l9FgJYhcVEwOpj%2FV%2Fh7GK%2BOyGEza14nuUdx02Vh0JOYJi0GAvpLHbeyJrHgT%2B7ld%2FCxCcltRFo0fU9E0z6919d6M3FbFFBwvvtU2BnKaHrTnWjVLXiRwBLvj2YEv7ZOD9I0NL7UxOO9HtNCFGTsvD9voDldPKhrjkac7UhuI2zk5VKpAS4bwQh6OTOv0hQ9ogdUtOk7%2BsX7ZkDTc69JlcRvla1L858rS5vp0GQF%2B3uKZCFGcf0MHpX8x8pczK4nVJReFId2ktO%2FH8UWwfrH9bgzHIh%2Fv3LVpLJ3saTiuD1RQ3GTNOUkLUUsywFh5DMQHGdbznAU42QJIyregPsTVrnCIBPm0ah5hf4dCBXkwO8LzbV2HEbMBogDFNriCczuXsGrwuLtKiOr0Kv1kjsl4JedxHJlBAdH6pssVIszTqlV8yix4m4YlU3jA6jdgSL2QuxBDJMiRn5ukHMoGhqSnCy8w%2BgWzdYW059B1waC6W%2BciGbWP%2F20BICylBuMGKVYAhScq0rrbnda9yBKXHqucUFB9dO1yzeOBakxI2iq9ciezY11zroUYohJ%2F%2Bv0B64oTehIl0AGbmO4SMlJaXy2Yw6mKeZblEnVP9YFCDiugHJiZZYpf03QlfnKMz0qx1ItE&e=mclics%2Fadvertising-results-augmenter-on%2B15098%2Cmclics%2Fvariant-candidates%2B31710%2Cmclics%2Fpseudo-search-pads-buybox%2B7708%2Cmclics%2Fmax-bid-item-factor%2B23928%2Cmclics%2Fsearch-list-ad-algorithm%2BDEFAULT%2Cmclics%2Fmax-bid-capped%2B36382%2Cmclics%2Fpads-score-mla%2B17263%2Cmclics%2Flax-top-domain%2B23443&rb=x\n",
      "\n",
      "\n",
      "https://www.mercadolivre.com.br/pagina/magazine_24h6145?item_id=MLB1506360965&category_id=MLB32130&seller_id=281324034&client=recoview-selleritems&recos_listing=true#origin=vip&component=sellerData&typeSeller=eshop\n",
      "281324034\n",
      "MAGAZINE 24H\n",
      "R$127,49 \n",
      "Truss \n",
      "Truss Uso Obrigatório Reconstrutor Capilar - 260ml \n",
      "https://produto.mercadolivre.com.br/MLB-1506360965-truss-uso-obrigatorio-reconstrutor-capilar-260ml-_JM#position=24&search_layout=grid&type=item&tracking_id=d00f863a-79b0-4f09-b25e-fed04198c3eb\n",
      "\n",
      "\n",
      "https://www.mercadolivre.com.br/pagina/beauty.secret?item_id=MLB2667574241&category_id=MLB32130&seller_id=357167813&client=recoview-selleritems&recos_listing=true#origin=vip&component=sellerData&typeSeller=eshop\n",
      "357167813\n",
      "BEAUTY SECRET\n",
      "R$135,99 \n",
      "Truss \n",
      "Truss Uso Obrigatório 260ml Reconstrutor Capilar \n",
      "https://produto.mercadolivre.com.br/MLB-2667574241-truss-uso-obrigatorio-260ml-reconstrutor-capilar-_JM#position=29&search_layout=grid&type=item&tracking_id=d00f863a-79b0-4f09-b25e-fed04198c3eb\n",
      "\n",
      "\n",
      "https://lista.mercadolivre.com.br/_CustId_193253947?item_id=MLB2201113270&category_id=MLB32130&seller_id=193253947&client=recoview-selleritems&recos_listing=true\n",
      "193253947\n",
      "M2BEAUTY__\n",
      "R$129,80 \n",
      "Truss \n",
      "Truss Uso Obrigatório - Reconstrutor Capilar 260ml \n",
      "https://produto.mercadolivre.com.br/MLB-2201113270-truss-uso-obrigatorio-reconstrutor-capilar-260ml-_JM#position=32&search_layout=grid&type=item&tracking_id=d00f863a-79b0-4f09-b25e-fed04198c3eb\n",
      "\n",
      "\n",
      "https://lista.mercadolivre.com.br/_CustId_256850616?item_id=MLB2102441874&category_id=MLB32130&seller_id=256850616&client=recoview-selleritems&recos_listing=true\n",
      "256850616\n",
      "A.G.SANTOS COSMÉTICOS\n",
      "R$127,41 \n",
      "Hair Vip \n",
      "Uso Obrigatório Truss Reconstrutor Capilar 260ml \n",
      "https://produto.mercadolivre.com.br/MLB-2102441874-uso-obrigatorio-truss-reconstrutor-capilar-260ml-_JM#position=37&search_layout=grid&type=item&tracking_id=d00f863a-79b0-4f09-b25e-fed04198c3eb\n",
      "\n",
      "\n",
      "https://loja.mercadolivre.com.br/teruya-perfumaria?item_id=MLB1822089374&category_id=MLB32130&official_store_id=1235&client=recoview-selleritems&recos_listing=true\n",
      "None\n",
      "Teruya Perfumaria\n",
      "R$147,90 \n",
      "Truss \n",
      "Reconstrutor Capilar Uso Obrigatório Truss 260ml \n",
      "https://produto.mercadolivre.com.br/MLB-1822089374-reconstrutor-capilar-uso-obrigatorio-truss-260ml-_JM#position=38&search_layout=grid&type=item&tracking_id=d00f863a-79b0-4f09-b25e-fed04198c3eb\n",
      "\n",
      "\n",
      "https://www.mercadolivre.com.br/pagina/mixdamaria?item_id=MLB3633699945&category_id=MLB32130&seller_id=638240438&client=recoview-selleritems&recos_listing=true\n",
      "638240438\n",
      "MIXDAMARIA\n",
      "R$119 \n",
      "Truss \n",
      "Truss Uso Obrigatório - Reconstrutor Capilar 260ml \n",
      "https://produto.mercadolivre.com.br/MLB-3633699945-truss-uso-obrigatorio-reconstrutor-capilar-260ml-_JM#position=43&search_layout=grid&type=item&tracking_id=d00f863a-79b0-4f09-b25e-fed04198c3eb\n",
      "\n",
      "\n",
      "https://lista.mercadolivre.com.br/_CustId_468042452?item_id=MLB1468646785&category_id=MLB32130&seller_id=468042452&client=recoview-selleritems&recos_listing=true\n",
      "468042452\n",
      "YOUBELEZA\n",
      "R$149,99 \n",
      "Truss \n",
      "Uso Obrigatório Truss - Reconstrutor Capilar 260ml \n",
      "https://produto.mercadolivre.com.br/MLB-1468646785-uso-obrigatorio-truss-reconstrutor-capilar-260ml-_JM#position=51&search_layout=grid&type=item&tracking_id=d00f863a-79b0-4f09-b25e-fed04198c3eb\n",
      "\n",
      "\n",
      "https://www.mercadolivre.com.br/pagina/mixdamaria?item_id=MLB4540623140&category_id=MLB32130&seller_id=638240438&client=recoview-selleritems&recos_listing=true#origin=vip&component=sellerData&typeSeller=eshop\n",
      "638240438\n",
      "MIXDAMARIA\n",
      "R$119 \n",
      "Truss \n",
      "Truss Uso Obrigatório - Reconstrutor Capilar 260ml \n",
      "https://produto.mercadolivre.com.br/MLB-4540623140-truss-uso-obrigatorio-reconstrutor-capilar-260ml-_JM#position=54&search_layout=grid&type=item&tracking_id=d00f863a-79b0-4f09-b25e-fed04198c3eb\n",
      "\n",
      "\n"
     ]
    }
   ],
   "source": [
    "print(\"Mercado Livre\")\n",
    "for seller in mlb_result['result']:\n",
    "  print(f\"{seller['seller_url']}\\n{seller['seller_id']}\\n{seller['seller_name']}\\n{seller['price']} \\n{seller['brand']} \\n{seller['description']} \\n{seller['product_url']}\\n\\n\")"
   ]
  },
  {
   "cell_type": "code",
   "execution_count": null,
   "metadata": {},
   "outputs": [],
   "source": [
    "from kami_pricing_analytics.data_collector.strategies.web_scraping.amazon import AmazonScraper\n",
    "product_url=\"https://www.amazon.com.br/dp/B07GYX8QRJ\"\n",
    "amazon_scraper = AmazonScraper(product_url=product_url)\n",
    "amazon_result = await amazon_scraper.execute()"
   ]
  },
  {
   "cell_type": "code",
   "execution_count": null,
   "metadata": {},
   "outputs": [],
   "source": [
    "print(\"Amazon\")\n",
    "for seller in amazon_result['result']:\n",
    "  print(f\"{seller['seller_url']}\\n{seller['seller_id']}\\n{seller['seller_name']}\\n{seller['price']} \\n{seller['brand']} \\n{seller['description']} \\n{seller['product_url']}\\n\\n\")"
   ]
  },
  {
   "cell_type": "code",
   "execution_count": null,
   "metadata": {},
   "outputs": [],
   "source": [
    "from kami_pricing_analytics.data_collector.strategies.web_scraping.beleza_na_web import BelezaNaWebScraper\n",
    "product_url=\"https://www.belezanaweb.com.br/wella-professionals-invigo-nutrienrich-mascara-capilar-500ml/ofertas-marketplace\"\n",
    "beleza_scraper = BelezaNaWebScraper(product_url=product_url)\n",
    "beleza_result = await beleza_scraper.execute()"
   ]
  },
  {
   "cell_type": "code",
   "execution_count": null,
   "metadata": {},
   "outputs": [],
   "source": [
    "print(\"Beleza na Web\")\n",
    "for seller in beleza_result['result']:\n",
    "  print(f\"{seller['seller_url']}\\n{seller['seller_id']}\\n{seller['seller_name']}\\n{seller['price']} \\n{seller['brand']} \\n{seller['description']} \\n{seller['product_url']}\\n\\n\")"
   ]
  }
 ],
 "metadata": {
  "kernelspec": {
   "display_name": "kami-pricing-analytics-Zi2hoFJ2-py3.11",
   "language": "python",
   "name": "python3"
  },
  "language_info": {
   "codemirror_mode": {
    "name": "ipython",
    "version": 3
   },
   "file_extension": ".py",
   "mimetype": "text/x-python",
   "name": "python",
   "nbconvert_exporter": "python",
   "pygments_lexer": "ipython3",
   "version": "3.11.2"
  }
 },
 "nbformat": 4,
 "nbformat_minor": 2
}
