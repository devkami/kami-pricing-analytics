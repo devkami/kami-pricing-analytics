{
 "cells": [
  {
   "cell_type": "code",
   "execution_count": null,
   "metadata": {},
   "outputs": [],
   "source": [
    "from kami_pricing_analytics.data_collector.strategies.web_scraping.utils import group_user_agents_by_content_similarity, group_user_agents_by_identical_content\n",
    "from kami_pricing_analytics.data_collector.strategies.web_scraping.constants import USER_AGENTS\n",
    "url = \"https://produto.mercadolivre.com.br/MLB-1448733946\""
   ]
  },
  {
   "cell_type": "code",
   "execution_count": null,
   "metadata": {},
   "outputs": [],
   "source": [
    "similar_groups = group_user_agents_by_content_similarity(USER_AGENTS, url)\n",
    "identical_groups = group_user_agents_by_identical_content(USER_AGENTS, url)"
   ]
  },
  {
   "cell_type": "code",
   "execution_count": null,
   "metadata": {},
   "outputs": [],
   "source": [
    "for group in similar_groups:\n",
    "    print('Group:')\n",
    "    for agent in group:\n",
    "        print(agent)\n",
    "    print('\\n')"
   ]
  },
  {
   "cell_type": "code",
   "execution_count": null,
   "metadata": {},
   "outputs": [],
   "source": [
    "for group in identical_groups:\n",
    "    print('Group:')\n",
    "    for agent in group:\n",
    "        print(agent)\n",
    "    print('\\n')"
   ]
  }
 ],
 "metadata": {
  "kernelspec": {
   "display_name": "kami-pricing-analytics-Zi2hoFJ2-py3.11",
   "language": "python",
   "name": "python3"
  },
  "language_info": {
   "codemirror_mode": {
    "name": "ipython",
    "version": 3
   },
   "file_extension": ".py",
   "mimetype": "text/x-python",
   "name": "python",
   "nbconvert_exporter": "python",
   "pygments_lexer": "ipython3",
   "version": "3.11.2"
  }
 },
 "nbformat": 4,
 "nbformat_minor": 2
}
