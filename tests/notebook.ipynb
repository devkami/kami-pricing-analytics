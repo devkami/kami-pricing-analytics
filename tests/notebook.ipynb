{
 "cells": [
  {
   "cell_type": "code",
   "execution_count": 1,
   "metadata": {},
   "outputs": [],
   "source": [
    "from kami_pricing_analytics.schemas.pricing_research import PricingResearch\n",
    "\n",
    "pricing_research = PricingResearch(url='https://www.belezanaweb.com.br/tigi-bed-head-after-party-smoothing-cream-leavein-50ml/ofertas-marketplace')\n"
   ]
  },
  {
   "cell_type": "code",
   "execution_count": 2,
   "metadata": {},
   "outputs": [],
   "source": [
    "pricing_research.set_strategy(strategy_option=0)\n",
    "pricing_research.set_storage(storage_mode_option=1)"
   ]
  },
  {
   "cell_type": "code",
   "execution_count": 3,
   "metadata": {},
   "outputs": [
    {
     "data": {
      "text/plain": [
       "{'result': [{'sku': '20045045',\n",
       "   'brand': 'tigi-bed-head',\n",
       "   'category': 'Cabelos',\n",
       "   'name': 'TIGI Bed Head After Party Smoothing Cream - Leave-in 50ml',\n",
       "   'price': 62.9,\n",
       "   'seller_name': 'HAIRPRO'},\n",
       "  {'sku': '20045045',\n",
       "   'brand': 'tigi-bed-head',\n",
       "   'category': 'Cabelos',\n",
       "   'name': 'TIGI Bed Head After Party Smoothing Cream - Leave-in 50ml',\n",
       "   'price': 63,\n",
       "   'seller_name': 'Cosméticos FM'},\n",
       "  {'sku': '20045045',\n",
       "   'brand': 'tigi-bed-head',\n",
       "   'category': 'Cabelos',\n",
       "   'name': 'TIGI Bed Head After Party Smoothing Cream - Leave-in 50ml',\n",
       "   'price': 69.6,\n",
       "   'seller_name': 'Beleza na Web'},\n",
       "  {'sku': '20045045',\n",
       "   'brand': 'tigi-bed-head',\n",
       "   'category': 'Cabelos',\n",
       "   'name': 'TIGI Bed Head After Party Smoothing Cream - Leave-in 50ml',\n",
       "   'price': 69.99,\n",
       "   'seller_name': 'Evas Perfumaria'},\n",
       "  {'sku': '20045045',\n",
       "   'brand': 'tigi-bed-head',\n",
       "   'category': 'Cabelos',\n",
       "   'name': 'TIGI Bed Head After Party Smoothing Cream - Leave-in 50ml',\n",
       "   'price': 74.9,\n",
       "   'seller_name': 'Perfumaria Evas'},\n",
       "  {'sku': '20045045',\n",
       "   'brand': 'tigi-bed-head',\n",
       "   'category': 'Cabelos',\n",
       "   'name': 'TIGI Bed Head After Party Smoothing Cream - Leave-in 50ml',\n",
       "   'price': 82.99,\n",
       "   'seller_name': 'La Beauté Cosméticos'},\n",
       "  {'sku': '20045045',\n",
       "   'brand': 'tigi-bed-head',\n",
       "   'category': 'Cabelos',\n",
       "   'name': 'TIGI Bed Head After Party Smoothing Cream - Leave-in 50ml',\n",
       "   'price': 109.9,\n",
       "   'seller_name': 'Make By Bella Perfumaria Premium'}]}"
      ]
     },
     "execution_count": 3,
     "metadata": {},
     "output_type": "execute_result"
    }
   ],
   "source": [
    "await pricing_research.conduct_research()\n",
    "pricing_research.result\n"
   ]
  }
 ],
 "metadata": {
  "kernelspec": {
   "display_name": "kami-pricing-analytics-Zi2hoFJ2-py3.11",
   "language": "python",
   "name": "python3"
  },
  "language_info": {
   "codemirror_mode": {
    "name": "ipython",
    "version": 3
   },
   "file_extension": ".py",
   "mimetype": "text/x-python",
   "name": "python",
   "nbconvert_exporter": "python",
   "pygments_lexer": "ipython3",
   "version": "3.11.2"
  }
 },
 "nbformat": 4,
 "nbformat_minor": 2
}
